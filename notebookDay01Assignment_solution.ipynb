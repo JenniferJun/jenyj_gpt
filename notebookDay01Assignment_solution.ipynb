{
 "cells": [
  {
   "cell_type": "code",
   "execution_count": 1,
   "metadata": {},
   "outputs": [],
   "source": [
    "from langchain.chat_models import ChatOpenAI\n",
    "from langchain.prompts import ChatPromptTemplate\n",
    "from langchain.callbacks import StreamingStdOutCallbackHandler\n",
    "\n",
    "chat = ChatOpenAI(\n",
    "    model_name=\"gpt-3.5-turbo\",\n",
    "    streaming=True,\n",
    "    callbacks=[\n",
    "        StreamingStdOutCallbackHandler(),\n",
    "    ],\n",
    ")"
   ]
  },
  {
   "cell_type": "code",
   "execution_count": 6,
   "metadata": {},
   "outputs": [],
   "source": [
    "poet_prompt = ChatPromptTemplate.from_messages(\n",
    "    [\n",
    "        (\n",
    "            \"system\",\n",
    "            \"You are a world-renowned poet known for your deep understanding of programming languages. Your poems capture the essence and unique characteristics of each language beautifully.\",\n",
    "        ),\n",
    "        (\"human\", \"Write a poem about the {language} programming language in Korean.\"),\n",
    "    ]\n",
    ")\n",
    "\n",
    "poet_chain = poet_prompt | chat"
   ]
  },
  {
   "cell_type": "code",
   "execution_count": 7,
   "metadata": {},
   "outputs": [],
   "source": [
    "explainer_prompt = ChatPromptTemplate.from_messages(\n",
    "    [\n",
    "        (\n",
    "            \"system\",\n",
    "            \"You are an expert in poetry analysis. Your task is to explain the meaning, themes, and nuances of any poem in a clear and insightful manner.\",\n",
    "        ),\n",
    "        (\"human\", \"Explain the following poem:\\n\\n{poem}\"),\n",
    "    ]\n",
    ")\n",
    "\n",
    "explainer_chain = explainer_prompt | chat "
   ]
  },
  {
   "cell_type": "code",
   "execution_count": 8,
   "metadata": {},
   "outputs": [
    {
     "name": "stdout",
     "output_type": "stream",
     "text": [
      "파이썬, 그 너는 우아한 뱀,\n",
      "섬세하고도 간결한 말을 탐하며,\n",
      "들여다보면 그 몸짱의 유연함,\n",
      "문법의 아름다움이 빛을 발한다.\n",
      "\n",
      "들여다보면 그 몸짱의 유연함,\n",
      "들여다보면 그 몸짱의 유연함,\n",
      "들여다보면 그 몸짱의 유연함,\n",
      "들여다보면 그 몸짱의 유연함.\n",
      "\n",
      "파이썬, 너의 신비한 매력,\n",
      "우리를 안고 감싸 안아주며,\n",
      "코드의 세계를 빛내는 빛,\n",
      "그 너의 매혹은 끝이 없네.This poem seems to be an ode to the programming language Python. The poet describes Python as an elegant snake, delicately seeking concise words, and when one delves deeper into it, the flexibility and beauty of its syntax shine. The repetition of the line \"들여다보면 그 몸짱의 유연함\" (Upon closer inspection, the flexibility of its body) emphasizes this quality of Python, highlighting its adaptability and grace.\n",
      "\n",
      "The poet also marvels at Python's mysterious charm that envelops and embraces the readers, illuminating the world of code with its endless enchantment. The use of imagery comparing Python to a snake evokes a sense of fluidity and agility in the language, suggesting that like a snake, Python can navigate through complex tasks with ease and grace.\n",
      "\n",
      "Overall, the poem celebrates Python for its elegance, simplicity, flexibility, and the allure it holds for those who venture into its world. It captures the fascination and appreciation one can have for a programming language that not only functions effectively but also captivates with its beauty and charm."
     ]
    },
    {
     "data": {
      "text/plain": [
       "AIMessageChunk(content='This poem seems to be an ode to the programming language Python. The poet describes Python as an elegant snake, delicately seeking concise words, and when one delves deeper into it, the flexibility and beauty of its syntax shine. The repetition of the line \"들여다보면 그 몸짱의 유연함\" (Upon closer inspection, the flexibility of its body) emphasizes this quality of Python, highlighting its adaptability and grace.\\n\\nThe poet also marvels at Python\\'s mysterious charm that envelops and embraces the readers, illuminating the world of code with its endless enchantment. The use of imagery comparing Python to a snake evokes a sense of fluidity and agility in the language, suggesting that like a snake, Python can navigate through complex tasks with ease and grace.\\n\\nOverall, the poem celebrates Python for its elegance, simplicity, flexibility, and the allure it holds for those who venture into its world. It captures the fascination and appreciation one can have for a programming language that not only functions effectively but also captivates with its beauty and charm.')"
      ]
     },
     "execution_count": 8,
     "metadata": {},
     "output_type": "execute_result"
    }
   ],
   "source": [
    "final_chain = {\"poem\": poet_chain} | explainer_chain\n",
    "\n",
    "final_chain.invoke({\"language\": \"python\"})"
   ]
  }
 ],
 "metadata": {
  "kernelspec": {
   "display_name": "env",
   "language": "python",
   "name": "python3"
  },
  "language_info": {
   "codemirror_mode": {
    "name": "ipython",
    "version": 3
   },
   "file_extension": ".py",
   "mimetype": "text/x-python",
   "name": "python",
   "nbconvert_exporter": "python",
   "pygments_lexer": "ipython3",
   "version": "3.11.6"
  }
 },
 "nbformat": 4,
 "nbformat_minor": 2
}
