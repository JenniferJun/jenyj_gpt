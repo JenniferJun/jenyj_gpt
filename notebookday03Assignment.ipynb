{
 "cells": [
  {
   "cell_type": "code",
   "execution_count": 3,
   "metadata": {},
   "outputs": [
    {
     "ename": "ModuleNotFoundError",
     "evalue": "No module named 'langchain'",
     "output_type": "error",
     "traceback": [
      "\u001b[31m---------------------------------------------------------------------------\u001b[39m",
      "\u001b[31mModuleNotFoundError\u001b[39m                       Traceback (most recent call last)",
      "\u001b[36mCell\u001b[39m\u001b[36m \u001b[39m\u001b[32mIn[3]\u001b[39m\u001b[32m, line 1\u001b[39m\n\u001b[32m----> \u001b[39m\u001b[32m1\u001b[39m \u001b[38;5;28;01mfrom\u001b[39;00m \u001b[34;01mlangchain\u001b[39;00m\u001b[34;01m.\u001b[39;00m\u001b[34;01mchat_models\u001b[39;00m \u001b[38;5;28;01mimport\u001b[39;00m ChatOpenAI\n\u001b[32m      2\u001b[39m \u001b[38;5;28;01mfrom\u001b[39;00m \u001b[34;01mlangchain\u001b[39;00m\u001b[34;01m.\u001b[39;00m\u001b[34;01mmemory\u001b[39;00m \u001b[38;5;28;01mimport\u001b[39;00m ConversationSummaryBufferMemory\n\u001b[32m      3\u001b[39m \u001b[38;5;28;01mfrom\u001b[39;00m \u001b[34;01mlangchain\u001b[39;00m\u001b[34;01m.\u001b[39;00m\u001b[34;01mprompts\u001b[39;00m\u001b[34;01m.\u001b[39;00m\u001b[34;01mfew_shot\u001b[39;00m \u001b[38;5;28;01mimport\u001b[39;00m FewShotChatMessagePromptTemplate\n",
      "\u001b[31mModuleNotFoundError\u001b[39m: No module named 'langchain'"
     ]
    }
   ],
   "source": [
    "from langchain.chat_models import ChatOpenAI\n",
    "from langchain.memory import ConversationSummaryBufferMemory\n",
    "from langchain.prompts.few_shot import FewShotChatMessagePromptTemplate\n",
    "from langchain.callbacks import StreamingStdOutCallbackHandler\n",
    "from langchain.prompts import  ChatPromptTemplate\n",
    "from langchain.chains import LLMChain\n",
    "\n",
    "chat = ChatOpenAI(\n",
    "    temperature=0.1,\n",
    "    streaming=True,\n",
    "    callbacks=[\n",
    "        StreamingStdOutCallbackHandler(),\n",
    "    ],\n",
    ")\n",
    "\n",
    "memory = ConversationSummaryBufferMemory(\n",
    "    llm=chat,\n",
    "    max_length=20,\n",
    "    max_token_limit=100,\n",
    "    memory_key=\"chat_history\",\n",
    "    return_messages=True,\n",
    ")\n",
    "\n",
    "examples = [\n",
    "    {\n",
    "        \"movie\": \"Top Gun\",\n",
    "        \"answer\": \"\"\"\n",
    "        🛩️👨‍✈️🔥\n",
    "        \"\"\",\n",
    "    },\n",
    "    {\n",
    "        \"movie\": \"The Godfather\",\n",
    "        \"answer\": \"\"\"\n",
    "        👨‍👨‍👦🔫🍝\n",
    "        \"\"\",\n",
    "    },\n",
    "    {\n",
    "        \"movie\": \"Titanic\",\n",
    "        \"answer\": \"\"\"\n",
    "       🚢💑🧊\n",
    "        \"\"\",\n",
    "    },\n",
    "    {\n",
    "        \"movie\": \"Inception\",\n",
    "        \"answer\": \"\"\"\n",
    "       🧠🌀🕰️\n",
    "        \"\"\",\n",
    "    },\n",
    "]\n",
    "\n",
    "\n",
    "example_prompt = ChatPromptTemplate.from_messages(\n",
    "    [\n",
    "        (\"human\", \"What do you know about {movie}?\"),\n",
    "        (\"ai\", \"{answer}\"),\n",
    "    ]\n",
    ")\n",
    "\n",
    "\n",
    "example_prompt = FewShotChatMessagePromptTemplate(\n",
    "    example_prompt=example_prompt,\n",
    "    examples=examples,\n",
    ")\n",
    "\n",
    "final_prompt = ChatPromptTemplate.from_messages(\n",
    "    [\n",
    "        (\"system\", \"You are an expert who explains the movie with three emojis.\"),\n",
    "        example_prompt,\n",
    "        (\"human\", \"What do you wnant to express about {movie}?\"),\n",
    "    ]\n",
    ")\n",
    "\n",
    "\n",
    "chain = LLMChain(\n",
    "    llm=chat,\n",
    "    memory=memory,\n",
    "    prompt=final_prompt,\n",
    "    verbose=True,\n",
    ") \n",
    " "
   ]
  },
  {
   "cell_type": "code",
   "execution_count": null,
   "metadata": {},
   "outputs": [
    {
     "name": "stdout",
     "output_type": "stream",
     "text": [
      "\n",
      "\n",
      "\u001b[1m> Entering new LLMChain chain...\u001b[0m\n",
      "Prompt after formatting:\n",
      "\u001b[32;1m\u001b[1;3mSystem: You are an expert who explains the movie with three emojis.\n",
      "Human: What do you know about Top Gun?\n",
      "AI: \n",
      "        🛩️👨‍✈️🔥\n",
      "        \n",
      "Human: What do you know about The Godfather?\n",
      "AI: \n",
      "        👨‍👨‍👦🔫🍝\n",
      "        \n",
      "Human: What do you know about Titanic?\n",
      "AI: \n",
      "       🚢💑🧊\n",
      "        \n",
      "Human: What do you know about Inception?\n",
      "AI: \n",
      "       🧠🌀🕰️\n",
      "        \n",
      "Human: What do you wnant to express about Jurassic Park?\u001b[0m\n",
      "🦖🌴🔬\n",
      "\u001b[1m> Finished chain.\u001b[0m\n"
     ]
    },
    {
     "data": {
      "text/plain": [
       "{'movie': 'Jurassic Park',\n",
       " 'chat_history': [HumanMessage(content='Jurassic Park'),\n",
       "  AIMessage(content='🦖🌴🔬')],\n",
       " 'text': '🦖🌴🔬'}"
      ]
     },
     "execution_count": 30,
     "metadata": {},
     "output_type": "execute_result"
    }
   ],
   "source": [
    "chain.invoke({\"movie\": \"Jurassic Park\"}) "
   ]
  },
  {
   "cell_type": "code",
   "execution_count": null,
   "metadata": {},
   "outputs": [
    {
     "name": "stdout",
     "output_type": "stream",
     "text": [
      "\n",
      "\n",
      "\u001b[1m> Entering new LLMChain chain...\u001b[0m\n",
      "Prompt after formatting:\n",
      "\u001b[32;1m\u001b[1;3mSystem: You are an expert who explains the movie with three emojis.\n",
      "Human: What do you know about Top Gun?\n",
      "AI: \n",
      "        🛩️👨‍✈️🔥\n",
      "        \n",
      "Human: What do you know about The Godfather?\n",
      "AI: \n",
      "        👨‍👨‍👦🔫🍝\n",
      "        \n",
      "Human: What do you know about Titanic?\n",
      "AI: \n",
      "       🚢💑🧊\n",
      "        \n",
      "Human: What do you know about Inception?\n",
      "AI: \n",
      "       🧠🌀🕰️\n",
      "        \n",
      "Human: What do you wnant to express about Forrest Gump?\u001b[0m\n",
      "🏃🍫🇺🇸\n",
      "\u001b[1m> Finished chain.\u001b[0m\n"
     ]
    },
    {
     "data": {
      "text/plain": [
       "{'movie': 'Forrest Gump',\n",
       " 'chat_history': [HumanMessage(content='Forrest Gump'),\n",
       "  AIMessage(content='🏃🍫🇺🇸')],\n",
       " 'text': '🏃🍫🇺🇸'}"
      ]
     },
     "execution_count": 32,
     "metadata": {},
     "output_type": "execute_result"
    }
   ],
   "source": [
    "chain.invoke({\"movie\": \"Forrest Gump\"}) "
   ]
  },
  {
   "cell_type": "code",
   "execution_count": null,
   "metadata": {},
   "outputs": [
    {
     "name": "stdout",
     "output_type": "stream",
     "text": [
      "\n",
      "\n",
      "\u001b[1m> Entering new LLMChain chain...\u001b[0m\n",
      "Prompt after formatting:\n",
      "\u001b[32;1m\u001b[1;3mSystem: You are an expert who explains the movie with three emojis.\n",
      "Human: What do you know about Top Gun?\n",
      "AI: \n",
      "        🛩️👨‍✈️🔥\n",
      "        \n",
      "Human: What do you know about The Godfather?\n",
      "AI: \n",
      "        👨‍👨‍👦🔫🍝\n",
      "        \n",
      "Human: What do you know about Titanic?\n",
      "AI: \n",
      "       🚢💑🧊\n",
      "        \n",
      "Human: What do you know about Inception?\n",
      "AI: \n",
      "       🧠🌀🕰️\n",
      "        \n",
      "Human: What do you wnant to express about Inception?\u001b[0m\n",
      "🧠🌀🕰️\n",
      "\u001b[1m> Finished chain.\u001b[0m\n"
     ]
    },
    {
     "data": {
      "text/plain": [
       "{'movie': 'Inception',\n",
       " 'chat_history': [HumanMessage(content='Forrest Gump'),\n",
       "  AIMessage(content='🏃🍫🇺🇸'),\n",
       "  HumanMessage(content='Inception'),\n",
       "  AIMessage(content='🧠🌀🕰️')],\n",
       " 'text': '🧠🌀🕰️'}"
      ]
     },
     "execution_count": 33,
     "metadata": {},
     "output_type": "execute_result"
    }
   ],
   "source": [
    "chain.invoke({\"movie\": \"Inception\"}) "
   ]
  },
  {
   "cell_type": "code",
   "execution_count": null,
   "metadata": {},
   "outputs": [
    {
     "name": "stdout",
     "output_type": "stream",
     "text": [
      "\n",
      "\n",
      "\u001b[1m> Entering new LLMChain chain...\u001b[0m\n",
      "Prompt after formatting:\n",
      "\u001b[32;1m\u001b[1;3mSystem: You are an expert who explains the movie with three emojis.\n",
      "Human: What do you know about Top Gun?\n",
      "AI: \n",
      "        🛩️👨‍✈️🔥\n",
      "        \n",
      "Human: What do you know about The Godfather?\n",
      "AI: \n",
      "        👨‍👨‍👦🔫🍝\n",
      "        \n",
      "Human: What do you know about Titanic?\n",
      "AI: \n",
      "       🚢💑🧊\n",
      "        \n",
      "Human: What do you know about Inception?\n",
      "AI: \n",
      "       🧠🌀🕰️\n",
      "        \n",
      "Human: What do you wnant to express about Frozen?\u001b[0m\n",
      "❄️👸⛄\n",
      "\u001b[1m> Finished chain.\u001b[0m\n"
     ]
    },
    {
     "data": {
      "text/plain": [
       "{'movie': 'Frozen',\n",
       " 'chat_history': [HumanMessage(content='Forrest Gump'),\n",
       "  AIMessage(content='🏃🍫🇺🇸'),\n",
       "  HumanMessage(content='Inception'),\n",
       "  AIMessage(content='🧠🌀🕰️'),\n",
       "  HumanMessage(content='Frozen'),\n",
       "  AIMessage(content='❄️👸⛄')],\n",
       " 'text': '❄️👸⛄'}"
      ]
     },
     "execution_count": 34,
     "metadata": {},
     "output_type": "execute_result"
    }
   ],
   "source": [
    "chain.invoke({\"movie\": \"Frozen\"}) "
   ]
  },
  {
   "cell_type": "code",
   "execution_count": null,
   "metadata": {},
   "outputs": [
    {
     "name": "stdout",
     "output_type": "stream",
     "text": [
      "\n",
      "\n",
      "\u001b[1m> Entering new LLMChain chain...\u001b[0m\n",
      "Prompt after formatting:\n",
      "\u001b[32;1m\u001b[1;3mSystem: You are an expert who explains the movie with three emojis.\n",
      "Human: What do you know about Top Gun?\n",
      "AI: \n",
      "        🛩️👨‍✈️🔥\n",
      "        \n",
      "Human: What do you know about The Godfather?\n",
      "AI: \n",
      "        👨‍👨‍👦🔫🍝\n",
      "        \n",
      "Human: What do you know about Titanic?\n",
      "AI: \n",
      "       🚢💑🧊\n",
      "        \n",
      "Human: What do you know about Inception?\n",
      "AI: \n",
      "       🧠🌀🕰️\n",
      "        \n",
      "Human: What do you wnant to express about The Matrix?\u001b[0m\n",
      "🕶️💻🔵\n",
      "\u001b[1m> Finished chain.\u001b[0m\n"
     ]
    },
    {
     "data": {
      "text/plain": [
       "{'movie': 'The Matrix',\n",
       " 'chat_history': [HumanMessage(content='Forrest Gump'),\n",
       "  AIMessage(content='🏃🍫🇺🇸'),\n",
       "  HumanMessage(content='Inception'),\n",
       "  AIMessage(content='🧠🌀🕰️'),\n",
       "  HumanMessage(content='Frozen'),\n",
       "  AIMessage(content='❄️👸⛄'),\n",
       "  HumanMessage(content='The Matrix'),\n",
       "  AIMessage(content='🕶️💻🔵')],\n",
       " 'text': '🕶️💻🔵'}"
      ]
     },
     "execution_count": 35,
     "metadata": {},
     "output_type": "execute_result"
    }
   ],
   "source": [
    "chain.invoke({\"movie\": \"The Matrix\"}) "
   ]
  },
  {
   "cell_type": "code",
   "execution_count": null,
   "metadata": {},
   "outputs": [
    {
     "name": "stdout",
     "output_type": "stream",
     "text": [
      "\n",
      "\n",
      "\u001b[1m> Entering new LLMChain chain...\u001b[0m\n",
      "Prompt after formatting:\n",
      "\u001b[32;1m\u001b[1;3mSystem: You are an expert who explains the movie with three emojis.\n",
      "Human: What do you know about Top Gun?\n",
      "AI: \n",
      "        🛩️👨‍✈️🔥\n",
      "        \n",
      "Human: What do you know about The Godfather?\n",
      "AI: \n",
      "        👨‍👨‍👦🔫🍝\n",
      "        \n",
      "Human: What do you know about Titanic?\n",
      "AI: \n",
      "       🚢💑🧊\n",
      "        \n",
      "Human: What do you know about Inception?\n",
      "AI: \n",
      "       🧠🌀🕰️\n",
      "        \n",
      "Human: What do you wnant to express about The Dark Knight?\u001b[0m\n",
      "🦇🃏🦹‍♂️\n",
      "\u001b[1m> Finished chain.\u001b[0m\n",
      "The human mentions \"Forrest Gump\" and the AI responds with emojis representing running, chocolate, and the United States."
     ]
    },
    {
     "data": {
      "text/plain": [
       "{'movie': 'The Dark Knight',\n",
       " 'chat_history': [HumanMessage(content='Inception'),\n",
       "  AIMessage(content='🧠🌀🕰️'),\n",
       "  HumanMessage(content='Frozen'),\n",
       "  AIMessage(content='❄️👸⛄'),\n",
       "  HumanMessage(content='The Matrix'),\n",
       "  AIMessage(content='🕶️💻🔵'),\n",
       "  HumanMessage(content='The Dark Knight'),\n",
       "  AIMessage(content='🦇🃏🦹\\u200d♂️')],\n",
       " 'text': '🦇🃏🦹\\u200d♂️'}"
      ]
     },
     "execution_count": 36,
     "metadata": {},
     "output_type": "execute_result"
    }
   ],
   "source": [
    "chain.invoke({\"movie\": \"The Dark Knight\"}) "
   ]
  },
  {
   "cell_type": "code",
   "execution_count": null,
   "metadata": {},
   "outputs": [
    {
     "name": "stdout",
     "output_type": "stream",
     "text": [
      "\n",
      "\n",
      "\u001b[1m> Entering new LLMChain chain...\u001b[0m\n",
      "Prompt after formatting:\n",
      "\u001b[32;1m\u001b[1;3mSystem: You are an expert who explains the movie with three emojis.\n",
      "Human: What do you know about Top Gun?\n",
      "AI: \n",
      "        🛩️👨‍✈️🔥\n",
      "        \n",
      "Human: What do you know about The Godfather?\n",
      "AI: \n",
      "        👨‍👨‍👦🔫🍝\n",
      "        \n",
      "Human: What do you know about Titanic?\n",
      "AI: \n",
      "       🚢💑🧊\n",
      "        \n",
      "Human: What do you know about Inception?\n",
      "AI: \n",
      "       🧠🌀🕰️\n",
      "        \n",
      "Human: What do you wnant to express about Jurassic Park?\u001b[0m\n",
      "🦖🌴🔬\n",
      "\u001b[1m> Finished chain.\u001b[0m\n",
      "The human mentions \"Forrest Gump\" and the AI responds with emojis representing running, chocolate, and the United States. When the human mentions \"Inception,\" the AI responds with emojis representing the mind, a spinning top, and time."
     ]
    },
    {
     "data": {
      "text/plain": [
       "{'movie': 'Jurassic Park',\n",
       " 'chat_history': [SystemMessage(content='The human mentions \"Forrest Gump\" and the AI responds with emojis representing running, chocolate, and the United States.'),\n",
       "  HumanMessage(content='Inception'),\n",
       "  AIMessage(content='🧠🌀🕰️'),\n",
       "  HumanMessage(content='Frozen'),\n",
       "  AIMessage(content='❄️👸⛄'),\n",
       "  HumanMessage(content='The Matrix'),\n",
       "  AIMessage(content='🕶️💻🔵'),\n",
       "  HumanMessage(content='The Dark Knight'),\n",
       "  AIMessage(content='🦇🃏🦹\\u200d♂️')],\n",
       " 'text': '🦖🌴🔬'}"
      ]
     },
     "execution_count": 37,
     "metadata": {},
     "output_type": "execute_result"
    }
   ],
   "source": [
    "chain.invoke({\"movie\": \"Jurassic Park\"}) "
   ]
  },
  {
   "cell_type": "code",
   "execution_count": null,
   "metadata": {},
   "outputs": [
    {
     "data": {
      "text/plain": [
       "{'chat_history': [SystemMessage(content='The human mentions \"Forrest Gump\" and the AI responds with emojis representing running, chocolate, and the United States. When the human mentions \"Inception,\" the AI responds with emojis representing the mind, a spinning top, and time.'),\n",
       "  HumanMessage(content='Frozen'),\n",
       "  AIMessage(content='❄️👸⛄'),\n",
       "  HumanMessage(content='The Matrix'),\n",
       "  AIMessage(content='🕶️💻🔵'),\n",
       "  HumanMessage(content='The Dark Knight'),\n",
       "  AIMessage(content='🦇🃏🦹\\u200d♂️'),\n",
       "  HumanMessage(content='Jurassic Park'),\n",
       "  AIMessage(content='🦖🌴🔬')]}"
      ]
     },
     "execution_count": 38,
     "metadata": {},
     "output_type": "execute_result"
    }
   ],
   "source": [
    "memory.load_memory_variables({})"
   ]
  },
  {
   "cell_type": "code",
   "execution_count": null,
   "metadata": {},
   "outputs": [
    {
     "name": "stdout",
     "output_type": "stream",
     "text": [
      "\n",
      "\n",
      "\u001b[1m> Entering new LLMChain chain...\u001b[0m\n",
      "Prompt after formatting:\n",
      "\u001b[32;1m\u001b[1;3mSystem: You are an expert who explains the movie with three emojis.\n",
      "Human: What do you know about Top Gun?\n",
      "AI: \n",
      "        🛩️👨‍✈️🔥\n",
      "        \n",
      "Human: What do you know about The Godfather?\n",
      "AI: \n",
      "        👨‍👨‍👦🔫🍝\n",
      "        \n",
      "Human: What do you know about Titanic?\n",
      "AI: \n",
      "       🚢💑🧊\n",
      "        \n",
      "Human: What do you know about Inception?\n",
      "AI: \n",
      "       🧠🌀🕰️\n",
      "        \n",
      "Human: What do you wnant to express about Jurassic Park?\u001b[0m\n",
      "🦖🌴🔬\n",
      "\u001b[1m> Finished chain.\u001b[0m\n",
      "The human mentions various movies and the AI responds with emojis representing different elements of each movie. When the human mentions \"The Shawshank Redemption,\" the AI responds with emojis representing a man, justice, a hammer, and freedom. When the human mentions \"Jurassic Park,\" the AI responds with emojis representing dinosaurs, adventure, and danger. The AI then responds with emojis representing a bat, a joker, and a villain when the human mentions \"The Dark Knight.\" The AI responds with emojis representing a man, justice, a hammer, and freedom when the human mentions \"The Shawshank Redemption.\" The AI responds with emojis representing dinosaurs, adventure, and danger when the human mentions \"Jurassic Park.\"\n",
      "\n",
      "\u001b[1m> Entering new LLMChain chain...\u001b[0m\n",
      "Prompt after formatting:\n",
      "\u001b[32;1m\u001b[1;3mSystem: You are an expert who explains the movie with three emojis.\n",
      "Human: What do you know about Top Gun?\n",
      "AI: \n",
      "        🛩️👨‍✈️🔥\n",
      "        \n",
      "Human: What do you know about The Godfather?\n",
      "AI: \n",
      "        👨‍👨‍👦🔫🍝\n",
      "        \n",
      "Human: What do you know about Titanic?\n",
      "AI: \n",
      "       🚢💑🧊\n",
      "        \n",
      "Human: What do you know about Inception?\n",
      "AI: \n",
      "       🧠🌀🕰️\n",
      "        \n",
      "Human: What do you wnant to express about The Dark Knight?\u001b[0m\n",
      "🦇🃏🦹‍♂️\n",
      "\u001b[1m> Finished chain.\u001b[0m\n",
      "The human mentions various movies and the AI responds with emojis representing different elements of each movie. When the human mentions \"The Dark Knight,\" the AI responds with emojis representing a bat, a joker, and a villain. The human then mentions \"The Shawshank Redemption.\"{'movie': 'Jurassic Park', 'chat_history': [SystemMessage(content='The human mentions various movies and the AI responds with emojis representing different elements of each movie. When the human mentions \"The Shawshank Redemption,\" the AI responds with emojis representing a man, justice, a hammer, and freedom. When the human mentions \"Jurassic Park,\" the AI responds with emojis representing dinosaurs, adventure, and danger. The AI then responds with emojis representing a bat, a joker, and a villain when the human mentions \"The Dark Knight.\" The AI responds with emojis representing a man, justice, a hammer, and freedom when the human mentions \"The Shawshank Redemption.\"'), AIMessage(content='🦖🌴🔬'), HumanMessage(content='The Dark Knight'), AIMessage(content='🦇🃏🦹\\u200d♂️'), HumanMessage(content='The Shawshank Redemption'), AIMessage(content='🔒⛏️🌅'), HumanMessage(content='XMAN'), AIMessage(content='🦸\\u200d♂️🧬🌌')], 'text': '🦖🌴🔬'} \n",
      "\n",
      "{'movie': 'The Dark Knight', 'chat_history': [SystemMessage(content='The human mentions various movies and the AI responds with emojis representing different elements of each movie. When the human mentions \"The Shawshank Redemption,\" the AI responds with emojis representing a man, justice, a hammer, and freedom. When the human mentions \"Jurassic Park,\" the AI responds with emojis representing dinosaurs, adventure, and danger. The AI then responds with emojis representing a bat, a joker, and a villain when the human mentions \"The Dark Knight.\" The AI responds with emojis representing a man, justice, a hammer, and freedom when the human mentions \"The Shawshank Redemption.\" The AI responds with emojis representing dinosaurs, adventure, and danger when the human mentions \"Jurassic Park.\"'), AIMessage(content='🦇🃏🦹\\u200d♂️'), HumanMessage(content='The Shawshank Redemption'), AIMessage(content='🔒⛏️🌅'), HumanMessage(content='XMAN'), AIMessage(content='🦸\\u200d♂️🧬🌌'), HumanMessage(content='Jurassic Park'), AIMessage(content='🦖🌴🔬')], 'text': '🦇🃏🦹\\u200d♂️'} \n",
      "\n",
      "Tokens Used: 0\n",
      "\tPrompt Tokens: 0\n",
      "\tCompletion Tokens: 0\n",
      "Successful Requests: 0\n",
      "Total Cost (USD): $0.0\n"
     ]
    }
   ],
   "source": [
    "\n",
    "from langchain.callbacks import get_openai_callback\n",
    "\n",
    "with get_openai_callback() as usage:\n",
    "    a = chain.invoke({\"movie\": \"Jurassic Park\"}) \n",
    "    b = chain.invoke({\"movie\": \"The Dark Knight\"})  \n",
    "    print(a, \"\\n\")\n",
    "    print(b, \"\\n\")  \n",
    "    print(usage) "
   ]
  }
 ],
 "metadata": {
  "kernelspec": {
   "display_name": "env",
   "language": "python",
   "name": "python3"
  },
  "language_info": {
   "codemirror_mode": {
    "name": "ipython",
    "version": 3
   },
   "file_extension": ".py",
   "mimetype": "text/x-python",
   "name": "python",
   "nbconvert_exporter": "python",
   "pygments_lexer": "ipython3",
   "version": "3.11.6"
  }
 },
 "nbformat": 4,
 "nbformat_minor": 2
}
