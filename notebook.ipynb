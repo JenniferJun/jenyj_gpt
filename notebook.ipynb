{
 "cells": [
  {
   "cell_type": "code",
   "execution_count": 2,
   "metadata": {},
   "outputs": [
    {
     "name": "stdout",
     "output_type": "stream",
     "text": [
      "\n",
      "\n",
      "\u001b[1m> Entering new AgentExecutor chain...\u001b[0m\n",
      "\u001b[32;1m\u001b[1;3m\n",
      "Invoking: `StockMarketSymbolSearchTool` with `{'query': 'Cloudflare stock market symbol'}`\n",
      "\n",
      "\n",
      "\u001b[0m\u001b[36;1m\u001b[1;3mGet a real-time Cloudflare, Inc. (NET) stock price with an overview of financials, statistics, forecasts, charts and more. ... Ticker Symbol NET. Website https://www.cloudflare.com. Full Company Profile. ... Dominating The Global CDN Market. Cloudflare's competitive advantage lies in its extensive ISP partnerships, enabling lower pricing and ... Should You Buy or Sell Cloudflare Stock? Get The Latest NET Stock Analysis, Price Target, Earnings Estimates, Headlines, and Short Interest at MarketBeat. ... Popular online brokerages with access to the U.S. stock market include Charles Schwab, E*TRADE, Fidelity, and Vanguard Brokerage Services. ... Current Symbol NYSE:NET. CIK 1477333. Web ... What is Cloudflare, Inc.'s stock symbol? Cloudflare, Inc.'s stock symbol is NET and currently trades under NYSE. It's current price per share is approximately $114.92. What is Cloudflare's quote symbol? (NYSE: NET) Cloudflare trades on the NYSE under the ticker symbol NET. Cloudflare stock quotes can also be displayed as NYSE: ... the total value of Cloudflare stock (market capitalization) is $42.77B.Cloudflare. stock was originally listed at a price of $18.00 in Sep 13, 2019. The stock price has increased by +21.68% in the last 52 weeks. The beta is 1.27, so Cloudflare's price volatility has been higher than the market average. Beta (5Y)\u001b[0m\u001b[32;1m\u001b[1;3mThe stock symbol for Cloudflare, Inc. is NET and it trades on the New York Stock Exchange (NYSE). As of now, the current price per share is approximately $114.92. Cloudflare's market capitalization is $42.77 billion.\n",
      "\n",
      "To analyze if Cloudflare is a potential good investment, we can consider the following factors:\n",
      "1. **Financial Performance**: Look at the company's revenue growth, profitability, and cash flow.\n",
      "2. **Market Position**: Evaluate Cloudflare's competitive position in the industry and its growth potential.\n",
      "3. **Industry Trends**: Consider the trends in the cybersecurity and cloud services industry.\n",
      "4. **Stock Performance**: Analyze the historical stock performance, volatility, and analyst recommendations.\n",
      "\n",
      "Would you like to delve deeper into any specific aspect of Cloudflare's stock or need more information to assess its investment potential?\u001b[0m\n",
      "\n",
      "\u001b[1m> Finished chain.\u001b[0m\n"
     ]
    },
    {
     "data": {
      "text/plain": [
       "{'input': \"Give me information on Cloudflare's stock and help me analyze if it's a potential good investment. Also tell me what symbol does the stock have.\",\n",
       " 'output': \"The stock symbol for Cloudflare, Inc. is NET and it trades on the New York Stock Exchange (NYSE). As of now, the current price per share is approximately $114.92. Cloudflare's market capitalization is $42.77 billion.\\n\\nTo analyze if Cloudflare is a potential good investment, we can consider the following factors:\\n1. **Financial Performance**: Look at the company's revenue growth, profitability, and cash flow.\\n2. **Market Position**: Evaluate Cloudflare's competitive position in the industry and its growth potential.\\n3. **Industry Trends**: Consider the trends in the cybersecurity and cloud services industry.\\n4. **Stock Performance**: Analyze the historical stock performance, volatility, and analyst recommendations.\\n\\nWould you like to delve deeper into any specific aspect of Cloudflare's stock or need more information to assess its investment potential?\"}"
      ]
     },
     "execution_count": 2,
     "metadata": {},
     "output_type": "execute_result"
    }
   ],
   "source": [
    "from typing import Any, Type\n",
    "from langchain.chat_models import ChatOpenAI\n",
    "from langchain.tools import BaseTool\n",
    "from pydantic import BaseModel, Field\n",
    "from langchain.agents import initialize_agent, AgentType\n",
    "from langchain.utilities import DuckDuckGoSearchAPIWrapper\n",
    "\n",
    "llm = ChatOpenAI(temperature=0.1)\n",
    "\n",
    "\n",
    "class StockMarketSymbolSearchToolArgsSchema(BaseModel):\n",
    "    query: str = Field(\n",
    "        description=\"The query you will search for. Example query: Stock Market Symbol for Apple Company\"\n",
    "    )\n",
    "\n",
    "\n",
    "class StockMarketSymbolSearchTool(BaseTool):\n",
    "    name = \"StockMarketSymbolSearchTool\"\n",
    "    description = \"\"\"\n",
    "    Use this tool to find the stock market symbol for a company.\n",
    "    It takes a query as an argument.\n",
    "    \n",
    "    \"\"\"\n",
    "    args_schema: Type[\n",
    "        StockMarketSymbolSearchToolArgsSchema\n",
    "    ] = StockMarketSymbolSearchToolArgsSchema\n",
    "\n",
    "    def _run(self, query):\n",
    "        ddg = DuckDuckGoSearchAPIWrapper()\n",
    "        return ddg.run(query)\n",
    "\n",
    "\n",
    "agent = initialize_agent(\n",
    "    llm=llm,\n",
    "    verbose=True,\n",
    "    agent=AgentType.OPENAI_FUNCTIONS,\n",
    "    handle_parsing_errors=True,\n",
    "    tools=[\n",
    "        StockMarketSymbolSearchTool(),\n",
    "    ],\n",
    ")\n",
    "\n",
    "prompt = \"Give me information on Cloudflare's stock and help me analyze if it's a potential good investment. Also tell me what symbol does the stock have.\"\n",
    "\n",
    "agent.invoke(prompt)"
   ]
  }
 ],
 "metadata": {
  "kernelspec": {
   "display_name": "env",
   "language": "python",
   "name": "python3"
  },
  "language_info": {
   "codemirror_mode": {
    "name": "ipython",
    "version": 3
   },
   "file_extension": ".py",
   "mimetype": "text/x-python",
   "name": "python",
   "nbconvert_exporter": "python",
   "pygments_lexer": "ipython3",
   "version": "3.11.11"
  }
 },
 "nbformat": 4,
 "nbformat_minor": 2
}
