{
 "cells": [
  {
   "cell_type": "code",
   "execution_count": 2,
   "metadata": {},
   "outputs": [],
   "source": [
    "from langchain.chat_models import ChatOpenAI\n",
    "from langchain.prompts import ChatPromptTemplate\n",
    "from langchain.callbacks import StreamingStdOutCallbackHandler\n",
    "\n",
    "chat = ChatOpenAI(\n",
    "    temperature=0.1,\n",
    "    streaming=True,\n",
    "    callbacks=[\n",
    "        StreamingStdOutCallbackHandler(),\n",
    "    ],\n",
    ")\n",
    "\n",
    "poet_prompt = ChatPromptTemplate.from_messages(\n",
    "    [\n",
    "        (\n",
    "            \"system\",\n",
    "            \"You are a poet who writes Haiku about programming languages in {lang}.\",\n",
    "        ),\n",
    "        (\"human\", \"I want to write a haiku about {programLg} langues.\"),\n",
    "    ]\n",
    ")\n",
    "\n",
    "poet_chain = poet_prompt | chat"
   ]
  },
  {
   "cell_type": "code",
   "execution_count": 3,
   "metadata": {},
   "outputs": [
    {
     "name": "stdout",
     "output_type": "stream",
     "text": [
      "자바 언어,\n",
      "객체 지향의 아름,\n",
      "코드를 빛낸다.This Haiku is written in Korean and it talks about the Java programming language. Here is the translation and explanation:\n",
      "\n",
      "Java language,\n",
      "Beauty of object-oriented,\n",
      "Illuminates the code.\n",
      "\n",
      "This Haiku praises the Java programming language for its elegance and the beauty of its object-oriented approach. It suggests that Java has the ability to bring clarity and brightness to the code written in it. The Haiku captures the essence of Java as a powerful and expressive language that can bring structure and organization to software development."
     ]
    },
    {
     "data": {
      "text/plain": [
       "AIMessageChunk(content='This Haiku is written in Korean and it talks about the Java programming language. Here is the translation and explanation:\\n\\nJava language,\\nBeauty of object-oriented,\\nIlluminates the code.\\n\\nThis Haiku praises the Java programming language for its elegance and the beauty of its object-oriented approach. It suggests that Java has the ability to bring clarity and brightness to the code written in it. The Haiku captures the essence of Java as a powerful and expressive language that can bring structure and organization to software development.')"
      ]
     },
     "execution_count": 3,
     "metadata": {},
     "output_type": "execute_result"
    }
   ],
   "source": [
    "explainer_prompt = ChatPromptTemplate.from_messages(\n",
    "    [\n",
    "        (\n",
    "            \"system\",\n",
    "            \"You are a person who explain well about . Please explain the meaning of this Haiku.\",\n",
    "        ),\n",
    "        (\"human\", \"{haiku}\"),\n",
    "    ]\n",
    ")\n",
    "\n",
    "\n",
    "explainer_chain = explainer_prompt | chat\n",
    "\n",
    "final_chain = {\"haiku\": poet_chain} | explainer_chain\n",
    "\n",
    "final_chain.invoke({\"programLg\": \"Java\", \"lang\": \"Korean\"})\n"
   ]
  }
 ],
 "metadata": {
  "kernelspec": {
   "display_name": "env",
   "language": "python",
   "name": "python3"
  },
  "language_info": {
   "codemirror_mode": {
    "name": "ipython",
    "version": 3
   },
   "file_extension": ".py",
   "mimetype": "text/x-python",
   "name": "python",
   "nbconvert_exporter": "python",
   "pygments_lexer": "ipython3",
   "version": "3.11.6"
  }
 },
 "nbformat": 4,
 "nbformat_minor": 2
}
