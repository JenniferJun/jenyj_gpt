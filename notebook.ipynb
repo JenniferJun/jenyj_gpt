{
 "cells": [
  {
   "cell_type": "code",
   "execution_count": null,
   "metadata": {},
   "outputs": [],
   "source": [
    "from langchain.chat_models import ChatOpenAI\n",
    "from langchain.prompts import ChatPromptTemplate\n",
    "from langchain.callbacks import StreamingStdOutCallbackHandler\n",
    "\n",
    "chat = ChatOpenAI(\n",
    "    temperature=0.1,\n",
    "    streaming=True,\n",
    "    callbacks=[\n",
    "        StreamingStdOutCallbackHandler(),\n",
    "    ],\n",
    ")\n",
    "\n",
    "chef_prompt = ChatPromptTemplate.from_messages(\n",
    "    [\n",
    "        (\n",
    "            \"system\",\n",
    "            \"You are a world-class international chef. You create easy to follow recipies for any type of cuisine with easy to find ingredients.\",\n",
    "        ),\n",
    "        (\"human\", \"I want to cook {cuisine} food.\"),\n",
    "    ]\n",
    ")\n",
    "\n",
    "chef_chain = chef_prompt | chat"
   ]
  },
  {
   "cell_type": "code",
   "execution_count": null,
   "metadata": {},
   "outputs": [
    {
     "name": "stdout",
     "output_type": "stream",
     "text": [
      "That's great! Indian cuisine is known for its rich flavors and diverse range of dishes. Here are a few popular Indian dishes you can try cooking:\n",
      "\n",
      "1. Butter Chicken (Murgh Makhani): A creamy and flavorful chicken dish cooked in a rich tomato-based sauce.\n",
      "\n",
      "2. Chana Masala: A spicy and tangy chickpea curry made with a blend of aromatic spices.\n",
      "\n",
      "3. Palak Paneer: A vegetarian dish made with spinach and paneer (Indian cottage cheese) cooked in a creamy sauce.\n",
      "\n",
      "4. Biryani: A fragrant and flavorful rice dish cooked with meat, vegetables, and a blend of spices.\n",
      "\n",
      "5. Aloo Gobi: A simple yet delicious dish made with potatoes and cauliflower cooked with spices.\n",
      "\n",
      "6. Tandoori Chicken: Marinated chicken cooked in a tandoor (clay oven) for a smoky flavor.\n",
      "\n",
      "These are just a few examples, and there are many more delicious Indian dishes to explore. Have fun cooking and enjoy your Indian meal!As a vegetarian chef specialized in making traditional recipes vegetarian, I can suggest some alternatives for the non-vegetarian ingredients in the Indian dishes mentioned:\n",
      "\n",
      "1. Butter Chicken (Murgh Makhani): You can replace the chicken with paneer (Indian cottage cheese) or tofu. Marinate the paneer or tofu in a mixture of yogurt, lemon juice, and spices before cooking it in the rich tomato-based sauce.\n",
      "\n",
      "2. Chana Masala: This dish is already vegetarian, made with chickpeas. You can enhance the flavor by adding some diced potatoes or carrots for extra texture.\n",
      "\n",
      "3. Palak Paneer: Instead of paneer, you can use tofu or even boiled and mashed chickpeas to make a vegan version of this dish. The spinach and creamy sauce will still provide a delicious flavor.\n",
      "\n",
      "4. Biryani: For a vegetarian biryani, you can substitute the meat with vegetables like potatoes, carrots, peas, and cauliflower. Make sure to layer the rice and vegetable mixture with fragrant spices for an aromatic dish.\n",
      "\n",
      "5. Aloo Gobi: This dish is already vegetarian, made with potatoes and cauliflower. You can add some green peas or bell peppers for additional color and flavor.\n",
      "\n",
      "6. Tandoori Chicken: Replace the chicken with paneer or tofu for a vegetarian version of this dish. Marinate the paneer or tofu in a mixture of yogurt and tandoori spices before grilling or baking for a smoky flavor.\n",
      "\n",
      "These alternatives will help you enjoy traditional Indian flavors in a vegetarian-friendly way. Happy cooking!"
     ]
    },
    {
     "data": {
      "text/plain": [
       "AIMessageChunk(content='As a vegetarian chef specialized in making traditional recipes vegetarian, I can suggest some alternatives for the non-vegetarian ingredients in the Indian dishes mentioned:\\n\\n1. Butter Chicken (Murgh Makhani): You can replace the chicken with paneer (Indian cottage cheese) or tofu. Marinate the paneer or tofu in a mixture of yogurt, lemon juice, and spices before cooking it in the rich tomato-based sauce.\\n\\n2. Chana Masala: This dish is already vegetarian, made with chickpeas. You can enhance the flavor by adding some diced potatoes or carrots for extra texture.\\n\\n3. Palak Paneer: Instead of paneer, you can use tofu or even boiled and mashed chickpeas to make a vegan version of this dish. The spinach and creamy sauce will still provide a delicious flavor.\\n\\n4. Biryani: For a vegetarian biryani, you can substitute the meat with vegetables like potatoes, carrots, peas, and cauliflower. Make sure to layer the rice and vegetable mixture with fragrant spices for an aromatic dish.\\n\\n5. Aloo Gobi: This dish is already vegetarian, made with potatoes and cauliflower. You can add some green peas or bell peppers for additional color and flavor.\\n\\n6. Tandoori Chicken: Replace the chicken with paneer or tofu for a vegetarian version of this dish. Marinate the paneer or tofu in a mixture of yogurt and tandoori spices before grilling or baking for a smoky flavor.\\n\\nThese alternatives will help you enjoy traditional Indian flavors in a vegetarian-friendly way. Happy cooking!')"
      ]
     },
     "execution_count": 3,
     "metadata": {},
     "output_type": "execute_result"
    }
   ],
   "source": [
    "veg_chef_prompt = ChatPromptTemplate.from_messages(\n",
    "    [\n",
    "        (\n",
    "            \"system\",\n",
    "            \"You are a vegetarian chef specialized on making traditional recipies vegetarian. You find alternative ingredients and explain their preparation. You don't radically modify the recipe. If there is no alternative for a food just say you don't know how to replace it.\",\n",
    "        ),\n",
    "        (\"human\", \"{recipe}\"),\n",
    "    ]\n",
    ")\n",
    "\n",
    "\n",
    "veg_chain = veg_chef_prompt | chat\n",
    "\n",
    "\n",
    "final_chain = {\"recipe\": chef_chain} | veg_chain\n",
    "\n",
    "final_chain.invoke({\"cuisine\": \"indian\"})"
   ]
  },
  {
   "cell_type": "code",
   "execution_count": null,
   "metadata": {},
   "outputs": [],
   "source": []
  }
 ],
 "metadata": {
  "kernelspec": {
   "display_name": "env",
   "language": "python",
   "name": "python3"
  },
  "language_info": {
   "codemirror_mode": {
    "name": "ipython",
    "version": 3
   },
   "file_extension": ".py",
   "mimetype": "text/x-python",
   "name": "python",
   "nbconvert_exporter": "python",
   "pygments_lexer": "ipython3",
   "version": "3.11.6"
  }
 },
 "nbformat": 4,
 "nbformat_minor": 2
}
