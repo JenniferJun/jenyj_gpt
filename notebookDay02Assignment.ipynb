{
 "cells": [
  {
   "cell_type": "code",
   "execution_count": null,
   "metadata": {},
   "outputs": [
    {
     "name": "stdout",
     "output_type": "stream",
     "text": [
      "\n",
      "            - Director: Francis Ford Coppola\n",
      "            - Main Cast: Marlon Brando, Al Pacino, James Caan\n",
      "            - Budget: $6-7 million\n",
      "            - Box Office Revenue: $245-286 million\n",
      "            - Genre: Crime, Drama\n",
      "            - Synopsis: The aging patriarch of an organized crime dynasty transfers control of his clandestine empire to his reluctant son.\n",
      "        "
     ]
    },
    {
     "data": {
      "text/plain": [
       "AIMessageChunk(content='\\n            - Director: Francis Ford Coppola\\n            - Main Cast: Marlon Brando, Al Pacino, James Caan\\n            - Budget: $6-7 million\\n            - Box Office Revenue: $245-286 million\\n            - Genre: Crime, Drama\\n            - Synopsis: The aging patriarch of an organized crime dynasty transfers control of his clandestine empire to his reluctant son.\\n        ')"
      ]
     },
     "execution_count": 2,
     "metadata": {},
     "output_type": "execute_result"
    }
   ],
   "source": [
    "#4.2 FewShotChatMessagePromptTemplate\n",
    "from langchain.chat_models import ChatOpenAI\n",
    "from langchain.prompts.few_shot import FewShotChatMessagePromptTemplate\n",
    "from langchain.callbacks import StreamingStdOutCallbackHandler\n",
    "from langchain.prompts import ChatMessagePromptTemplate, ChatPromptTemplate\n",
    "\n",
    "chat = ChatOpenAI(\n",
    "    temperature=0.1,\n",
    "    streaming=True,\n",
    "    callbacks=[\n",
    "        StreamingStdOutCallbackHandler(),\n",
    "    ],\n",
    ")\n",
    "\n",
    "\n",
    "examples = [\n",
    "    {\n",
    "        \"movie\": \"Inception\",\n",
    "        \"answer\": \"\"\"\n",
    "        I will sumarise the moveie \"Inception\"\n",
    "            - Director: Christopher Nolan\\n\n",
    "            - Main Cast: Leonardo DiCaprio, Joseph Gordon-Levitt, Ellen Page\\n\n",
    "            - Budget: $160 million\\n\n",
    "            - Box Office Revenue: $836 million\\n\n",
    "            - Genre: Science Fiction, Thriller\\n\n",
    "            - Synopsis: A thief who enters the dreams of others to steal ideas leads a mission to plant an idea into the mind of a CEO.\\n\n",
    "        \"\"\",\n",
    "    },\n",
    "    {\n",
    "        \"movie\": \"The Matrix\",\n",
    "        \"answer\": \"\"\"\n",
    "        I will sumarise the moveie \"The Matrix\"\n",
    "            - Director: Lana Wachowski, Lilly Wachowski\\n\n",
    "            - Main Cast: Keanu Reeves, Laurence Fishburne, Carrie-Anne Moss\\n\n",
    "            - Budget: $63 million\\n\n",
    "            - Box Office Revenue: $465.3 million\\n\n",
    "            - Genre: Action, Science Fiction\\n\n",
    "            - Synopsis: A computer hacker learns from mysterious rebels about the true nature of his reality and his role in the war against its controllers.\\n\n",
    "        \"\"\",\n",
    "    },\n",
    "    {\n",
    "        \"movie\": \"Titanic\",\n",
    "        \"answer\": \"\"\"\n",
    "        I will sumarise the moveie \"Titanic\"\n",
    "            - Director: James Cameron\n",
    "            - Main Cast: Leonardo DiCaprio, Kate Winslet, Billy Zane\n",
    "            - Budget: $200 million\n",
    "            - Box Office Revenue: $2.187 billion\n",
    "            - Genre: Romance, Drama\n",
    "            - Synopsis: A young aristocrat falls in love with a kind but poor artist aboard the luxurious, ill-fated R.M.S. Titanic.\n",
    "        \"\"\",\n",
    "    },\n",
    "]\n",
    "\n",
    "\n",
    "example_prompt = ChatPromptTemplate.from_messages(\n",
    "    [\n",
    "        (\"human\", \"What do you know about {movie}?\"),\n",
    "        (\"ai\", \"{answer}\"),\n",
    "    ]\n",
    ")\n",
    "\n",
    "example_prompt = FewShotChatMessagePromptTemplate(\n",
    "    example_prompt=example_prompt,\n",
    "    examples=examples,\n",
    ")\n",
    "\n",
    "final_prompt = ChatPromptTemplate.from_messages(\n",
    "    [\n",
    "        (\"system\", \"You are a movie expert, you give short answers.\"),\n",
    "        example_prompt,\n",
    "        (\"human\", \"What do you know about {movie}?\"),\n",
    "    ]\n",
    ")\n",
    "\n",
    "chain = final_prompt | chat\n",
    "\n",
    "chain.invoke({\"movie\": \"The Godfather\"}) "
   ]
  }
 ],
 "metadata": {
  "kernelspec": {
   "display_name": "env",
   "language": "python",
   "name": "python3"
  },
  "language_info": {
   "codemirror_mode": {
    "name": "ipython",
    "version": 3
   },
   "file_extension": ".py",
   "mimetype": "text/x-python",
   "name": "python",
   "nbconvert_exporter": "python",
   "pygments_lexer": "ipython3",
   "version": "3.11.6"
  }
 },
 "nbformat": 4,
 "nbformat_minor": 2
}
